{
 "cells": [
  {
   "cell_type": "markdown",
   "metadata": {
    "pycharm": {
     "name": "#%% md\n"
    }
   },
   "source": [
    "# Social Computing/Social Gaming - Summer 2021\n",
    "\n",
    "# Exercise Sheet 2: A comparison of Centrality Measures\n",
    "Centrality is a key concept in social network analysis. It measures the importance or influence of a certain node/edge in a network. The interpretation of importance or influence, however, depends on the type of centrality and the application for which it is measured. Different types of centrality were discussed in the lecture: degree centrality, closeness centrality, betweenness centrality and eigenvector centrality.<br>\n",
    "In this exercise, you are going to implement different centrality algorithms using the NetworkX library which you already know from last exercise. Please consult the [reference](https://networkx.github.io/documentation/stable/reference/index.html) [1] and the [tutorial](https://networkx.github.io/documentation/stable/tutorial.html) [2]."
   ]
  },
  {
   "cell_type": "code",
   "execution_count": 716,
   "metadata": {
    "pycharm": {
     "name": "#%%\n"
    }
   },
   "outputs": [],
   "source": [
    "# import the libraries\n",
    "import networkx as nx, pandas as pd, matplotlib.pyplot as plt"
   ]
  },
  {
   "cell_type": "markdown",
   "metadata": {
    "pycharm": {
     "name": "#%% md\n"
    }
   },
   "source": [
    "## Task 2.1: The Krackhardt Kite Graph\n",
    "We will use the Krackhardt Kite for the first exercise. The Krackhardt Kite is a simple connected, unweighted and undirected graph. [This figure](https://en.wikipedia.org/wiki/Krackhardt_kite_graph#/media/File:Krackhard_kite.PNG) [3] illustrates the Krackhardt Kite.\n",
    "\n",
    "**Calculate and print the degree centrality of the Krackhardt Kite graph - just a list of ten values, one for each node. You can use the pre-defined function of the NetworkX library.**\n",
    "\n",
    "**Optional:** Look at the graph and the list with the degree centrality values. Can you identify which node has which degree centrality?<br>\n",
    "**Optional:** Calculate the closeness and betweeness centrality as well. What information do they give us?"
   ]
  },
  {
   "cell_type": "code",
   "execution_count": 717,
   "metadata": {
    "scrolled": true,
    "pycharm": {
     "name": "#%%\n"
    }
   },
   "outputs": [
    {
     "name": "stdout",
     "output_type": "stream",
     "text": [
      "Degree centrality\n",
      "{0: 0.4444444444444444, 1: 0.4444444444444444, 2: 0.3333333333333333, 3: 0.6666666666666666, 4: 0.3333333333333333, 5: 0.5555555555555556, 6: 0.5555555555555556, 7: 0.3333333333333333, 8: 0.2222222222222222, 9: 0.1111111111111111}\n",
      "Closeness centrality\n",
      "{0: 0.5294117647058824, 1: 0.5294117647058824, 2: 0.5, 3: 0.6, 4: 0.5, 5: 0.6428571428571429, 6: 0.6428571428571429, 7: 0.6, 8: 0.42857142857142855, 9: 0.3103448275862069}\n",
      "Betweeness centrality\n",
      "{0: 0.023148148148148143, 1: 0.023148148148148143, 2: 0.0, 3: 0.10185185185185183, 4: 0.0, 5: 0.23148148148148148, 6: 0.23148148148148148, 7: 0.38888888888888884, 8: 0.2222222222222222, 9: 0.0}\n"
     ]
    },
    {
     "data": {
      "text/plain": "<Figure size 432x288 with 1 Axes>",
      "image/png": "[encoded data removed]"
     },
     "metadata": {},
     "output_type": "display_data"
    }
   ],
   "source": [
    "# Importing the graph (connected, unweighted, undirected social network)\n",
    "krackhardt_kite = nx.krackhardt_kite_graph()\n",
    "\n",
    "# Formatting the graph\n",
    "nodeColor = \"red\"\n",
    "nodeSize = 400\n",
    "pos = nx.spring_layout(krackhardt_kite)\n",
    "\n",
    "# TODO: Calculate and print the Kite's degree centrality\n",
    "print(\"Degree centrality\")\n",
    "print(nx.degree_centrality(krackhardt_kite))\n",
    "# Optional: Calculate the closeness centrality\n",
    "print(\"Closeness centrality\")\n",
    "print(nx.closeness_centrality(krackhardt_kite))\n",
    "\n",
    "# Optional: Calculate the betweeness centrality\n",
    "print(\"Betweeness centrality\")\n",
    "print(nx.betweenness_centrality(krackhardt_kite))\n",
    "\n",
    "# TODO: Plot the graph\n",
    "nx.draw(krackhardt_kite, node_size = nodeSize, node_color= nodeColor, with_labels=True)\n"
   ]
  },
  {
   "cell_type": "markdown",
   "metadata": {
    "pycharm": {
     "name": "#%% md\n"
    }
   },
   "source": [
    "## Task 2.2: Betweenness Centrality\n",
    "\n",
    "Betweenness centrality also measures centrality based on shortest paths. For every pair of vertices in a graph, there exists a shortest path between the vertices such that either the number of edges that the path passes through (for undirected graphs) or the edges' sum of the weights (for directed graphs) is minimized.<br>\n",
    "Vertices with high betweenness may have considerable influence within a network by virtue of their control over information passing between others.\n",
    "\n",
    "**a)**\n",
    "**Write a Python program that computes the betweeness centrality for each node for the given social network.** The output should be a list where each item contains the value of the closeness centrality of a node. You are **not allowed** to use the pre-defined function `betweenness_centrality()` from NetworkX , but you can look up its [documentation](https://networkx.org/documentation/networkx-1.10/reference/generated/networkx.algorithms.centrality.betweenness_centrality.html) [4] for help.\n",
    "\n",
    "**Notes:**\n",
    "* The program only have to implement the undirected graph version (without edge weights)\n",
    "* Look up the mathematical expression in the documentation\n",
    "* Normalize your centrality values\n",
    "* You are allowed to use pre-defined functions from NetworkX for determining (shortest) paths"
   ]
  },
  {
   "cell_type": "code",
   "execution_count": 718,
   "metadata": {
    "pycharm": {
     "name": "#%%\n"
    }
   },
   "outputs": [
    {
     "name": "stdout",
     "output_type": "stream",
     "text": [
      "0.023 0.023\n",
      "0.023 0.023\n",
      "0.000 0.000\n",
      "0.102 0.102\n",
      "0.000 0.000\n",
      "0.231 0.231\n",
      "0.231 0.231\n",
      "0.389 0.389\n",
      "0.222 0.222\n",
      "0.000 0.000\n"
     ]
    }
   ],
   "source": [
    "# TODO: Calculate and print the betweenness centrality\n",
    "def betweenness_centrality_node(g, u):\n",
    "    result = 0.0\n",
    "    list_of_visited_nodes = []\n",
    "    for s in g.nodes:\n",
    "\n",
    "        if s != u:\n",
    "            for t in g.nodes:\n",
    "                if t != s and t != u and not({'s': s, 't': t} in list_of_visited_nodes)and not({'s': t, 't': s} in list_of_visited_nodes) :\n",
    "                    list_of_visited_nodes.append({'s':s, 't':t})\n",
    "                    all_paths = len(list(nx.all_shortest_paths(g, source= s, target=t)))\n",
    "                    all_paths_pass_through = 0.0\n",
    "                    for path in nx.all_shortest_paths(g, source= s, target=t):\n",
    "                        for n in path:\n",
    "                            if n == u:\n",
    "                                all_paths_pass_through+=1\n",
    "                    result += all_paths_pass_through / all_paths\n",
    "\n",
    "    return result\n",
    "\n",
    "def betweenness_centrality(g):\n",
    "    result = {}\n",
    "    i = 0\n",
    "    normalize_value = 2/((len(g.nodes) - 1)*(len(g.nodes) - 2))\n",
    "    for node in g.nodes:\n",
    "        value = betweenness_centrality_node(g,node)\n",
    "        result[i] = value * normalize_value\n",
    "        i+=1\n",
    "    return result;\n",
    "\n",
    "\n",
    "# Calculate and print betweenness centrality\n",
    "bc = betweenness_centrality(krackhardt_kite)\n",
    "nx_bc = nx.betweenness_centrality(krackhardt_kite)\n",
    "\n",
    "for key in nx_bc.keys():\n",
    "    print(\"%.3f %.3f\" %(bc[key], nx_bc[key]))"
   ]
  },
  {
   "cell_type": "markdown",
   "metadata": {
    "pycharm": {
     "name": "#%% md\n"
    }
   },
   "source": [
    "Now you have implemented a programm for Betweenness Centrality, copy your solution and try to change your code in the following way.\n",
    "\n",
    "\n",
    "**b)**\n",
    "**Write a Python program that computes the epsilon betweeness centrality for each node for the given social network, when a path is $\\epsilon$ longer than the shortest path, it is considered a valid path for the computation of the betweenness centrality of a node**\n",
    "\n",
    "**Notes:**\n",
    "* All notes from above still apply\n",
    "* This time only shortest paths are not sufficient to compute the centrality, maybe NetworkX can help you once more?\n",
    "* Consider only $\\epsilon$-longer paths that do not contain the same node more than once"
   ]
  },
  {
   "cell_type": "code",
   "execution_count": 719,
   "metadata": {
    "pycharm": {
     "name": "#%%\n"
    }
   },
   "outputs": [
    {
     "name": "stdout",
     "output_type": "stream",
     "text": [
      "0.698\n",
      "0.698\n",
      "0.499\n",
      "0.837\n",
      "0.499\n",
      "0.794\n",
      "0.794\n",
      "0.565\n",
      "0.194\n",
      "0.000\n"
     ]
    },
    {
     "data": {
      "text/plain": "<Figure size 432x288 with 1 Axes>",
      "image/png": "[encoded data removed]"
     },
     "metadata": {},
     "output_type": "display_data"
    }
   ],
   "source": [
    "# TODO: Calculate and print the betweenness centrality with epsilon\n",
    "# Hint: You can use your code from above and modify it accordingly\n",
    "nx.draw(krackhardt_kite, node_size = nodeSize, node_color= nodeColor, with_labels=True)\n",
    "\n",
    "def extract_epsilon_paths (g, s, t, epsilon):\n",
    "    all_simple_paths = nx.all_simple_paths(g, source=s, target=t)\n",
    "    result = []\n",
    "    for path in all_simple_paths:\n",
    "        if len(path) - len(nx.shortest_path(g, source=s, target=t)) > epsilon:\n",
    "            result.append(path)\n",
    "    return result\n",
    "def betweenness_centrality_node(g, u, epsilon):\n",
    "    result = 0.0\n",
    "    list_of_visited_nodes = []\n",
    "    for s in g.nodes:\n",
    "\n",
    "        if s != u:\n",
    "            for t in g.nodes:\n",
    "                if t != s and t != u and not({'s': s, 't': t} in list_of_visited_nodes)and not({'s': t, 't': s} in list_of_visited_nodes) :\n",
    "                    list_of_visited_nodes.append({'s':s, 't':t})\n",
    "                    epsilon_paths = extract_epsilon_paths(g, s, t, epsilon)\n",
    "                    all_paths = len(epsilon_paths)\n",
    "                    if all_paths == 0:\n",
    "                        break\n",
    "                    all_paths_pass_through = 0.0\n",
    "                    for path in epsilon_paths:\n",
    "                        for n in path:\n",
    "                            if n == u:\n",
    "                                all_paths_pass_through+=1\n",
    "                    result += all_paths_pass_through / all_paths\n",
    "\n",
    "    return result\n",
    "def betweenness_centrality_epsilon(g, epsilon):\n",
    "    result = []\n",
    "    normalize_value = 2/((len(g.nodes) - 1)*(len(g.nodes) - 2))\n",
    "    for node in g.nodes:\n",
    "        value = betweenness_centrality_node(g,node, epsilon)\n",
    "        result.append(value * normalize_value)\n",
    "    return result;\n",
    "\n",
    "# Calculate and print betweenness centrality\n",
    "epsilon = 1\n",
    "bc_epsilon = betweenness_centrality_epsilon(krackhardt_kite, epsilon)\n",
    "for val in bc_epsilon:\n",
    "    print(\"%.3f\" %(val))"
   ]
  },
  {
   "cell_type": "markdown",
   "metadata": {
    "pycharm": {
     "name": "#%% md\n"
    }
   },
   "source": [
    "**c)** Compare your different results from a) and b). Pick 2 nodes and explain why their values differ. What advantages and disadvantages does one approach have over the other?"
   ]
  },
  {
   "cell_type": "markdown",
   "metadata": {
    "pycharm": {
     "name": "#%% md\n"
    }
   },
   "source": [
    "the betweeness centrality of the node 0 in a) is 0.023 and in b) 0.698. This shows us that the centrality is higher when we don't consider only the shortest paths for example from\n",
    "4 to 2 (or 2 to 4) we can pass by 0 but in a) this is not considered and can be considered in b) (if we set the correct value of epsilon) and this can affect the centrality value of the node 0.\n",
    "Another example is the node 7 which has the maximal value in a) but not in b)."
   ]
  },
  {
   "cell_type": "markdown",
   "metadata": {
    "pycharm": {
     "name": "#%% md\n"
    }
   },
   "source": [
    "## Task 2.3: PageRank\n",
    "\n",
    "In this task we will introduce you to the **PageRank centrality**. It is a feedback-centrality named after Larry Page, who together with Sergei Brin founded Google. The PageRank algorithm was used in Googles search engine to rank the pages for the search result. Since 2013 PageRank was superseded by the Hummingbird algorithm. Although PageRank remains one of many ingredients in the Hummingbird algorithm. Its basic idea is that a node is more central the more central its neighbors are. In order to understand PageRank the concept of a random walk is required.\n",
    "\n",
    "The **random walk** model describes a user surfing the web, starting at a web page and following hyperlinks to other web pages. If there is no link to other pages, the surfer jumps to a random web page.\n",
    "\n",
    "This web is a (directed) graph with vertices connected by edges. The random walk is an iterative process. Starting from a random vertex, an outgoing edge of the current vertex is selected randomly and the random walker follows it. If no outgoing edges are present, a random vertex is selected and the walker jumps to it (\"teleportation\"-mechanism), as some vertices may not have any outgoing edges and the process would terminate.\n",
    "\n",
    "The PageRank measures a stationary distribution of one specific kind of a random walk that starts from a random vertex, with a predefined probability $1-d$, jumps to a random vertex, and with a probability $d$ follows a random outgoing edge of the current vertex."
   ]
  },
  {
   "cell_type": "markdown",
   "metadata": {
    "pycharm": {
     "name": "#%% md\n"
    }
   },
   "source": [
    "**a)** First create a graph and test out the pre-defined NetworkX PageRank function.\n",
    "\n",
    "**1. Create** a graph using ``erdos_renyi_graph`` function of NetworkX."
   ]
  },
  {
   "cell_type": "code",
   "execution_count": 720,
   "metadata": {
    "pycharm": {
     "name": "#%%\n"
    }
   },
   "outputs": [
    {
     "data": {
      "text/plain": "<Figure size 432x288 with 1 Axes>",
      "image/png": "[encoded data removed]"
     },
     "metadata": {},
     "output_type": "display_data"
    }
   ],
   "source": [
    "# TODO: Create a graph using Erdos_Renyi with the following parameters\n",
    "n = 20\n",
    "p = 0.07\n",
    "directed = True\n",
    "\n",
    "simple_graph = nx.erdos_renyi_graph(n,p, directed= directed)# TODO\n",
    "\n",
    "# Formatting the graph\n",
    "node_color = \"#FF5733\"\n",
    "edge_colors= \"#000000\"\n",
    "node_size = 500\n",
    "\n",
    "pos = nx.spring_layout(simple_graph, k=0.7, iterations=20)\n",
    "\n",
    "nx.draw(simple_graph, pos=pos, node_color=node_color, node_size=node_size, edgecolors=edge_colors, with_labels=True)"
   ]
  },
  {
   "cell_type": "markdown",
   "metadata": {
    "pycharm": {
     "name": "#%% md\n"
    }
   },
   "source": [
    "**2.** **Calculate the PageRank** values of our `simple_graph`, using the built-in function of NetworkX.\n",
    "\n",
    "**3. Print** the first 15 elements of the PageRank."
   ]
  },
  {
   "cell_type": "code",
   "execution_count": 721,
   "metadata": {
    "pycharm": {
     "name": "#%%\n"
    }
   },
   "outputs": [
    {
     "name": "stdout",
     "output_type": "stream",
     "text": [
      "0.023001185559588678\n",
      "0.015271925389699972\n",
      "0.038459705899366085\n",
      "0.023871838499289186\n",
      "0.08893248214202931\n",
      "0.015271925389699972\n",
      "0.027279573107266183\n",
      "0.04819899560043826\n",
      "0.015271925389699972\n",
      "0.21894227342903275\n",
      "0.05226842177693037\n",
      "0.036853039451387175\n",
      "0.015271925389699972\n",
      "0.031601098669177895\n",
      "0.028253126341797954\n"
     ]
    }
   ],
   "source": [
    "# use this values for the built-in function\n",
    "ITERATIONS = 100\n",
    "DAMPING = 0.85\n",
    "\n",
    "# TODO: calculate PageRank\n",
    "results = nx.pagerank(simple_graph, max_iter=ITERATIONS, alpha=DAMPING)\n",
    "# TODO: print the results\n",
    "for i in range(0,15):\n",
    "    print(results[i])"
   ]
  },
  {
   "cell_type": "markdown",
   "metadata": {
    "pycharm": {
     "name": "#%% md\n"
    }
   },
   "source": [
    "**b)** Create a simple PageRank function using **Jacobi power iteration**, which you can find in the lecture slides. To avoid matrix inversion we use an iterative formula for the PageRank algorithm:\n",
    "\n",
    "$$c_i^{(k+1)} = d \\cdot \\sum_{j} P_{ij}c_{j}^{(k)} + \\frac{(1 - d)}{N}$$\n",
    "\n",
    "where the superscript k denotes the iteration index, d the damping, N the number of nodes in our graph (which is left out in the lecture notes and also in the original papers, but is used in the built-in PageRank calculation algorithm of NetworkX).\n",
    "\n",
    "**1.** Your first task is to **implement a function** which calculates the transition matrix element $P_{ij}$.\n",
    "\n",
    "**Note:** If the out-degree of a node is 0, the user should make a \"random jump\""
   ]
  },
  {
   "cell_type": "code",
   "execution_count": 722,
   "metadata": {
    "pycharm": {
     "name": "#%%\n"
    }
   },
   "outputs": [],
   "source": [
    "# TODO: calculate the transition matrix element P_ij of a node j to a node i.\n",
    "import random\n",
    "def pij(g, i, j):\n",
    "    if g.out_degree(j) == 0:\n",
    "        while g.out_degree(j) == 0:\n",
    "            i = random.randint(0,len(g) - 1)\n",
    "    if ((j,i) in g.edges()):\n",
    "        return 1/g.out_degree(j)\n",
    "    return 0\n",
    "\n",
    "    '''\n",
    "    calculate transition matrix element\n",
    "    between node i and node j of graph g\n",
    "    '''\n",
    "    # TODO: implement the function"
   ]
  },
  {
   "cell_type": "markdown",
   "metadata": {
    "pycharm": {
     "name": "#%% md\n"
    }
   },
   "source": [
    "**2.** The second task is to **normalize** a list, so that `sum(list) = 1.0` after every iteration in the Jacobi power iteration algorithm."
   ]
  },
  {
   "cell_type": "code",
   "execution_count": 723,
   "metadata": {
    "pycharm": {
     "name": "#%%\n"
    }
   },
   "outputs": [],
   "source": [
    "# TODO: renormalize after every step\n",
    "def renormalize(pagerank_list):\n",
    "    result = []\n",
    "    value = sum(pagerank_list)\n",
    "    for element in pagerank_list:\n",
    "        result.append((element /  value))\n",
    "    return result\n",
    "    # TODO: implement the function\n"
   ]
  },
  {
   "cell_type": "markdown",
   "metadata": {
    "pycharm": {
     "name": "#%% md\n"
    }
   },
   "source": [
    "***3.** The third and last task is to **implement the PageRank** calculation using Jacobi power iteration yourself. **Print** the first 15 elements and make sure you have the same result as in task ***a)***.\n",
    "\n",
    "**Note:**\n",
    "- `summe_j` is the term $\\sum_j P_{ij}c_{j}^{k}$ in the formula"
   ]
  },
  {
   "cell_type": "code",
   "execution_count": 724,
   "metadata": {
    "pycharm": {
     "name": "#%%\n"
    }
   },
   "outputs": [
    {
     "name": "stdout",
     "output_type": "stream",
     "text": [
      "0.023001 0.170676\n",
      "0.015272 0.004310\n",
      "0.038460 0.012823\n",
      "0.023872 0.165591\n",
      "0.088932 0.035740\n",
      "0.015272 0.165497\n",
      "0.027280 0.008355\n",
      "0.048199 0.018913\n",
      "0.015272 0.004310\n",
      "0.218942 0.161500\n",
      "0.052268 0.004310\n",
      "0.036853 0.023104\n",
      "0.015272 0.004310\n",
      "0.031601 0.016946\n",
      "0.028253 0.008525\n"
     ]
    }
   ],
   "source": [
    "def calcPageRank(g, d, numIter=30):\n",
    "    '''\n",
    "    calculate the PageRank of a given graph g, with damping d,\n",
    "    number of iterations numIter using jacobi power iteration\n",
    "    return a list with pageranks.\n",
    "    '''\n",
    "    # first initialize our pagerank centrality list c\n",
    "    # with 1/N for each element\n",
    "    N = len(g)\n",
    "    if N == 0:\n",
    "        return {}\n",
    "    c = [1/N] * N\n",
    "    for iteration in range(0, numIter):\n",
    "        c_previous = c.copy()\n",
    "        for i in g.nodes:\n",
    "            summe_j = 0.0\n",
    "\n",
    "            for j in g.nodes: # for neighbors of i\n",
    "                # calculate the sum term\n",
    "                summe_j += pij(g,i, j) * c_previous[j]\n",
    "\n",
    "            # calculate the centrality for the index i\n",
    "            # using the complete formula\n",
    "            c[i] = d * summe_j + (1.0 - d)/N\n",
    "\n",
    "        # renormalize pageranks after every iteration\n",
    "        c = renormalize(c)\n",
    "    return c\n",
    "\n",
    "my_pagerank_list = calcPageRank(simple_graph, DAMPING, ITERATIONS)\n",
    "pagerank_dict = nx.pagerank(simple_graph, alpha=DAMPING, max_iter=ITERATIONS)\n",
    "\n",
    "for key in range(0,15): # TODO: print the first 15 elements\n",
    "    print(\"%.6f %.6f\" %( pagerank_dict[key], my_pagerank_list[key]))"
   ]
  },
  {
   "cell_type": "markdown",
   "metadata": {
    "pycharm": {
     "name": "#%% md\n"
    }
   },
   "source": [
    "**c) Personalized PageRank**\n",
    "\n",
    "Now that you have calculated the PageRank centrality you will enhance the PageRank calculation to the personalized PageRank. \n",
    "\n",
    "Personalized PageRank is a modification of the PageRank algorithm. It is basically the same but biased to a personalized set of the starting vertices, a so-called `personalization` or preferences vector of the user.\n",
    "\n",
    "Instead of jumping to a random vertex with probability $d$, the walker jumps to a random vertex from the set of the starting vertices. By varying the damping factor $d$ the algorithm can be adjusted either towards the structure of the network itself, by using a close to 1 value of $d$, or towards the personal preferences by making $d$ smaller. Personalized PageRank can be used for personalized recommendations."
   ]
  },
  {
   "cell_type": "markdown",
   "metadata": {
    "pycharm": {
     "name": "#%% md\n"
    }
   },
   "source": [
    "**Copy and modify the ``calcPageRank()`` function, in order to include personal preferences. You have to modify the starting vector and the formula slightly. In addition to that `pij()` must be corrected for the personal jump too, define `pij_pers()` in order for your personalized PageRank to work!**"
   ]
  },
  {
   "cell_type": "code",
   "execution_count": 725,
   "metadata": {
    "pycharm": {
     "name": "#%%\n"
    }
   },
   "outputs": [],
   "source": [
    "# TODO calculate the transition matrix element P_ij of a node j to a node i.\n",
    "def pij_pers(g, i, j, c_start):\n",
    "    '''\n",
    "    calculate transition matrix element \n",
    "    between node i and node j of graph g \n",
    "    '''\n",
    "    if g.degree(j) == 0:\n",
    "        while g.degree(j) == 0:\n",
    "            j = random.choice(c_start)\n",
    "    check = ((i,j) in g.edges)\n",
    "    if not check:\n",
    "        return 0\n",
    "    return  1.0/g.degree(j)\n",
    "    "
   ]
  },
  {
   "cell_type": "code",
   "execution_count": 726,
   "metadata": {
    "pycharm": {
     "name": "#%%\n"
    }
   },
   "outputs": [
    {
     "name": "stdout",
     "output_type": "stream",
     "text": [
      "0.018927 0.000000\n",
      "0.000000 0.000000\n",
      "0.066801 0.130432\n",
      "0.077878 0.076744\n",
      "0.183977 0.154319\n",
      "0.000000 0.000000\n",
      "0.066801 0.107875\n",
      "0.071054 0.053688\n",
      "0.000000 0.000000\n",
      "0.221769 0.000000\n",
      "0.000000 0.000000\n",
      "0.011077 0.000000\n",
      "0.000000 0.084415\n",
      "0.030004 0.000000\n",
      "0.000000 0.145583\n"
     ]
    }
   ],
   "source": [
    "def personalizedPageRank(g, d, personalization, numIter=30):\n",
    "    '''\n",
    "    calculate the personalized pagerank of a given graph g, with damping d, \n",
    "    number of iterations numIter using jacobi power iteration\n",
    "    return a list with pageranks.\n",
    "    \n",
    "    personalization is the personalization dictionary of nodes, with \n",
    "    the probability 1, if node is personal preference of a user, \n",
    "    0, if not. E.g. {0:1, 1:1, 2:0, 3:1, 4:0, 5:0}, for prefered pages 1 and 3.\n",
    "    '''\n",
    "    N = len(g)\n",
    "    c_start = []\n",
    "    c = [0.0] * N\n",
    "    number_non_zeros = sum(personalization.values())\n",
    "    for key,value in personalization.items():\n",
    "        c_start.append(key)\n",
    "        if value != 0:\n",
    "            c[key] = 1 / number_non_zeros\n",
    "    for iteration in range(0, numIter):\n",
    "        c_previous = c.copy()\n",
    "\n",
    "        for i in g.nodes:\n",
    "            summe_j = 0.0\n",
    "            for j in g.nodes:\n",
    "                # for neighbors of i\n",
    "                # calculate the sum term\n",
    "                summe_j += pij_pers(g,i, j, c_start) * c_previous[j]\n",
    "            # calculate the centrality for the index i\n",
    "            # using the complete formula\n",
    "            if(i in personalization.keys() and personalization[i] != 0) :\n",
    "                c[i] = d * summe_j + (1 - d) / number_non_zeros\n",
    "            else:\n",
    "                c[i] = d * summe_j\n",
    "\n",
    "        # renormalize pageranks after every iteration\n",
    "        c = renormalize(c)\n",
    "    return c\n",
    "\n",
    "# first initialise our PageRank centrality list c\n",
    "    # with 1/\"number of non zero entries in personalization dictionary\" \n",
    "    # for each prefered page\n",
    "    # Note: the initial centrality list c_start is also needed for your pij_pers() function\n",
    "\n",
    "    # TODO: Implement personalized PageRank\n",
    "\n",
    "    \n",
    "personalization_vector = {1:0, 2:1, 3:1, 4:1, 5:0, 6:1}\n",
    "\n",
    "my_personalized_pagerank = personalizedPageRank(simple_graph, DAMPING, personalization_vector, ITERATIONS)\n",
    "personalized_pagerank = nx.pagerank(simple_graph, alpha=DAMPING, personalization=personalization_vector, max_iter=ITERATIONS)\n",
    "\n",
    "for key in range(0,15):# TODO: print the first 15 elements\n",
    "    print(\"%.6f %.6f\" %( personalized_pagerank[key], my_personalized_pagerank[key]))"
   ]
  },
  {
   "cell_type": "markdown",
   "metadata": {
    "pycharm": {
     "name": "#%% md\n"
    }
   },
   "source": [
    "**d)** Describe in 3-4 sentences what happens if you modify the starting vector or the damping factor? How does it influence your recommendation?"
   ]
  },
  {
   "cell_type": "markdown",
   "metadata": {
    "pycharm": {
     "name": "#%% md\n"
    }
   },
   "source": [
    "**TODO: Describe your observations in 3-4 sentences**"
   ]
  },
  {
   "cell_type": "markdown",
   "metadata": {
    "pycharm": {
     "name": "#%% md\n"
    }
   },
   "source": [
    "## References\n",
    "\n",
    "[1] https://networkx.github.io/documentation/stable/reference/index.html\n",
    "<br>[2] https://networkx.github.io/documentation/stable/tutorial.html\n",
    "<br>[3] https://en.wikipedia.org/wiki/Krackhardt_kite_graph#/media/File:Krackhard_kite.PNG\n",
    "<br>[4] https://networkx.org/documentation/networkx-1.10/reference/generated/networkx.algorithms.centrality.betweenness_centrality.html"
   ]
  }
 ],
 "metadata": {
  "anaconda-cloud": {},
  "kernelspec": {
   "display_name": "Python 3",
   "language": "python",
   "name": "python3"
  },
  "language_info": {
   "codemirror_mode": {
    "name": "ipython",
    "version": 3
   },
   "file_extension": ".py",
   "mimetype": "text/x-python",
   "name": "python",
   "nbconvert_exporter": "python",
   "pygments_lexer": "ipython3",
   "version": "3.6.8"
  }
 },
 "nbformat": 4,
 "nbformat_minor": 1
}