{
 "cells": [
  {
   "cell_type": "markdown",
   "metadata": {},
   "source": [
    "# Social Computing/Social Gaming - Summer 2022\n",
    "# Exercise Sheet 1 - Introduction to Python\n",
    "Welcome to the 2022 Social Computing / Social Gaming tutorial assignments. For all exercise sheets Python is the programming language of choice. This exercise sheet will therefor provide an introduction to Python for you. In the latter part of this exercise sheet you will take on your first Social Computing task.\n",
    "\n",
    "In addition to the exercise sheet iPython notebooks it is essential for you to have a look at the introduction videos and/or the introduction slides, both provided on Moodle, for every exercise sheet as they contain **helpful hints** and the **form of the assignment** which is **mandatory**!"
   ]
  },
  {
   "cell_type": "markdown",
   "metadata": {},
   "source": [
    "## Task 1.1: Largest palindrome product\n",
    "A palindromic number reads the same both ways. The largest palindrome made from the product of two 2-digit numbers is 9009 = 91 × 99\n",
    "\n",
    "Find the largest palindrome made from the product of two 3-digit numbers."
   ]
  },
  {
   "cell_type": "markdown",
   "metadata": {},
   "source": [
    "**a)** Create the function findPalindrome(N), which returns 1 if N is a Palindrome or 0 if it isn't.\n",
    "\n",
    "**Hints:**\n",
    "\n",
    "- In order to execute a code cell, press Shift + Enter."
   ]
  },
  {
   "cell_type": "code",
   "execution_count": null,
   "metadata": {},
   "outputs": [],
   "source": [
    "# TODO:\n",
    "def findPalindrome(N):\n",
    "\n"
   ]
  },
  {
   "cell_type": "markdown",
   "metadata": {},
   "source": [
    "**b)** Now create the function maxPalindrome(), which computes the largest palindrome made from the product of two 3-digit numbers"
   ]
  },
  {
   "cell_type": "code",
   "execution_count": null,
   "metadata": {},
   "outputs": [],
   "source": [
    "# TODO:\n",
    "def maxPalindrome():\n",
    "\n",
    "\n",
    "print(maxPalindrome())"
   ]
  },
  {
   "cell_type": "markdown",
   "metadata": {},
   "source": [
    "For this task problem 4 of [ProjectEuler.net](https://projecteuler.net/about) [1] was used, if you have fun solving this kind of mathematical riddles please check them out."
   ]
  },
  {
   "cell_type": "markdown",
   "metadata": {},
   "source": [
    "## Task 1.2 : The Simpsons are introducing Social Computing\n",
    "In social computing research, we need powerful tools to create, manipulate and display graphs. Luckily, there is a plethora of tools and libaries for that. \n",
    "NetworkX is a Python package for the creation, manipulation, and study of the structure, dynamics, and functions of complex networks.\n",
    "\n",
    "Especially for the second exercise sheet, we are going to use [**NetworkX**](https://networkx.github.io) [2]. It provides rich graph data structures and many out-of-the-box functions to process graphs and calculate different metrics. The tasks below should make you familiar with the library.<br>\n",
    "Please consult the [reference](https://networkx.github.io/documentation/stable/reference/index.html) [3] and the [tutorial](https://networkx.github.io/documentation/stable/tutorial.html) [4].\n",
    "\n",
    "To give you a short background on graph visualization, it is the research area in mathematics/computer science concerned with drawing graphs. It has applications in many fields, one of them is social computing. The quality of graph visualization is measured based on certain criteria, for example crossing minimization and bend minimization. There are many graph drawing algorithms that vary in their quality according to the graph's application and size. One technique is to draw graphs by using physical analogies.<br>\n",
    "The basic idea of this technique is to associate edges between graph nodes with physical forces acting upon the nodes and computing an energy minimum. By setting off the dynamics that is induced by the forces, the graph will finally settle into a natural optimal display. A famous algorithm that implements this technique is the **Fruchtermann-Rheingold** algorithm. Its basic idea is to replace the graph edges with mechanical springs, and let the springs move the system to a minimal energy state.\n"
   ]
  },
  {
   "cell_type": "markdown",
   "metadata": {},
   "source": [
    "Furthermore, you will be working with a large datasets, you need to save the variables in a suitable data format. In our case, the pandas library is a good choice. \n",
    "A pandas DataFrame is a 2D tabular structure, not unlike a SQL table.\n",
    "Pandas DataFrame consists of rows, columns and data.\n",
    "For more information on the library, see the [pandas manual](https://pandas.pydata.org/pandas-docs/version/0.19.2) [5] and its [tutorial](https://pandas.pydata.org/pandas-docs/version/0.19.2/10min.html) [6] to pandas dataframes."
   ]
  },
  {
   "cell_type": "markdown",
   "metadata": {},
   "source": [
    "In this exercise you will analyze a dataset about the TV show \"The Simpsons\".\n",
    "\n",
    "First import the datasets consisting ``nodes.csv``, ``edges.csv`` and ``ep-char.csv``.\n",
    "\n",
    "- **nodes.csv**: each vertex represents a character\n",
    "- **edges.csv**: edges between the source character and target character. Represents an undirected graph showing the characters which appeared together in an episode\n",
    "- **ep-char.csv**: shows which character has appeared in which episode\n",
    "\n",
    "\n",
    "**HINT**: \n",
    "- For most TODOs it is sufficient to look at the pandas manual and use pandas library functions  \n",
    "- You can get a better overview of the dataframe by printing it"
   ]
  },
  {
   "cell_type": "markdown",
   "metadata": {},
   "source": [
    "**Import** the necessary libraries for this exercise."
   ]
  },
  {
   "cell_type": "code",
   "execution_count": null,
   "metadata": {},
   "outputs": [],
   "source": [
    "import networkx as nx\n",
    "import pandas as pd\n",
    "import matplotlib.pyplot as plt"
   ]
  },
  {
   "cell_type": "markdown",
   "metadata": {},
   "source": [
    "**Read** the csv files into pandas dataframes."
   ]
  },
  {
   "cell_type": "code",
   "execution_count": null,
   "metadata": {},
   "outputs": [],
   "source": [
    "# Read the csv into pandas DataFrames\n",
    "df_edges = pd.read_csv(\"simpsons/edges.csv\")\n",
    "df_nodes = pd.read_csv(\"simpsons/nodes.csv\")\n",
    "df_epchar = pd.read_csv(\"simpsons/ep-char.csv\")\n",
    "\n",
    "# 226 is the number of the last episode in season 10.\n",
    "HIGHEST_EPISODE = 226"
   ]
  },
  {
   "cell_type": "markdown",
   "metadata": {},
   "source": [
    "**a)** Your first task is to **drop unwanted rows** in the episodes dataframe. We are only interested in Seasons 1-10.   \n",
    "\n",
    "**Hint:** Unwanted rows are rows which have an ``episode_id`` higher than ``HIGHEST_EPISODE``.   \n",
    "**Note:** Please note that this operation will only delete the rows without changing the weights of the characters. Do not worry about this."
   ]
  },
  {
   "cell_type": "code",
   "execution_count": null,
   "metadata": {},
   "outputs": [],
   "source": [
    "# TODO: drop rows of the df_epchar DataFrame.\n",
    "\n",
    "\n",
    "\n",
    "# Delete these row indices from the dataframe\n",
    "df_epchar.drop(indexNames, inplace=True)"
   ]
  },
  {
   "cell_type": "markdown",
   "metadata": {},
   "source": [
    "**b)** Now you can **merge** the DataFrames together to link the required information. This is not unlike the join operation in SQL.\n",
    "\n",
    "Since we are only interested in characters from the first 10 seasons, create a DataFrame ``df_merged`` which only contains characters from the first 226 episodes."
   ]
  },
  {
   "cell_type": "code",
   "execution_count": null,
   "metadata": {},
   "outputs": [],
   "source": [
    "# TODO:\n",
    "df_merged = \n",
    "\n",
    "\n",
    "# df_merged now consists of the characters which appear only in the first 10 seasons\n",
    "df_merged.drop(['episode_id', 'character_id'], axis=1, inplace=True)\n",
    "\n",
    "# TODO: now we have unnecessary information, drop the duplicates.\n",
    "\n",
    "\n",
    "df_merged"
   ]
  },
  {
   "cell_type": "markdown",
   "metadata": {},
   "source": [
    "**c)** Now use the DataFrame of limited characters and **merge** them with the edges"
   ]
  },
  {
   "cell_type": "code",
   "execution_count": null,
   "metadata": {},
   "outputs": [],
   "source": [
    "# TODO:\n",
    "# Hint: Use a left join, left_on='Id', right_on='Source'\n",
    "df_merged2 =\n",
    "\n",
    "\n",
    "# Drop Type, as it is not that interesting\n",
    "df_merged2 = df_merged2.drop(['Type'], axis=1)\n",
    "df_merged2"
   ]
  },
  {
   "cell_type": "markdown",
   "metadata": {},
   "source": [
    "**d)** Now we are only interested in **characters who have appeared at least 20 times together. Select those.**"
   ]
  },
  {
   "cell_type": "code",
   "execution_count": null,
   "metadata": {},
   "outputs": [],
   "source": [
    "# TODO: drop rows of the df_episodes DataFrame.\n",
    "\n",
    "\n",
    "# Delete these row indices from the dataframe\n",
    "df_merged2.drop(indexNames, inplace=True)\n",
    "df_merged2"
   ]
  },
  {
   "cell_type": "markdown",
   "metadata": {},
   "source": [
    "**e)** Now you have to **include your alter ego into the network**. Create a pandas Series with your name, your Id (which is 1337) and weights. Connect yourself to Bart Simpson. "
   ]
  },
  {
   "cell_type": "code",
   "execution_count": null,
   "metadata": {},
   "outputs": [],
   "source": [
    "# TODO:\n",
    "# Create a series for your character who is connected to homer 234 times and add it to the dataframe\n",
    "\n",
    "\n",
    "# TODO: \n",
    "# Append the newly created series to the pandas data frame\n",
    "\n",
    "\n",
    "# Create the graph from the dataframe\n",
    "graph = nx.from_pandas_edgelist(df_merged2, source=\"Id\", target=\"Target\", edge_attr=True)"
   ]
  },
  {
   "cell_type": "markdown",
   "metadata": {},
   "source": [
    "**f)** **Draw** the resulting graph with the given options. Choose 2 [layout](https://networkx.github.io/documentation/stable/reference/drawing.html) [7] options that seem the most suitable for the data. Briefly discuss why you chose these over the others."
   ]
  },
  {
   "cell_type": "code",
   "execution_count": null,
   "metadata": {},
   "outputs": [],
   "source": [
    "# Relabel the graph\n",
    "df_nodes_labels_dict = df_nodes.set_index('Id').to_dict()['charname']\n",
    "graph = nx.relabel_nodes(graph, df_nodes_labels_dict)\n",
    "\n",
    "# Set the edge color according to the weight\n",
    "edges,weights = zip(*nx.get_edge_attributes(graph,'Weight').items())\n",
    "\n",
    "# Style the graph\n",
    "options = {\n",
    "    \"font_size\" : 14,\n",
    "    \"font_color\" : '#552222',\n",
    "    \"node_color\" : '#22FF22',\n",
    "    \"width\" : 5.0,\n",
    "    \"edgelist\" : edges,\n",
    "    \"edge_color\" : weights,\n",
    "    \"edge_cmap\" : plt.cm.Blues\n",
    "}\n",
    "\n",
    "plt.figure(1,figsize=(40,40)) \n",
    "\n",
    "# TODO: plot the graph\n",
    "\n"
   ]
  },
  {
   "cell_type": "markdown",
   "metadata": {},
   "source": [
    "**TODO: Write your observations here:**"
   ]
  },
  {
   "cell_type": "markdown",
   "metadata": {},
   "source": [
    "## References\n",
    "\n",
    "[1] https://projecteuler.net/about\n",
    "<br>[2] https://networkx.github.io\n",
    "<br>[3] https://networkx.github.io/documentation/stable/reference/index.html\n",
    "<br>[4] https://networkx.github.io/documentation/stable/tutorial.html\n",
    "<br>[5] https://pandas.pydata.org/pandas-docs/version/0.19.2\n",
    "<br>[6] https://pandas.pydata.org/pandas-docs/version/0.19.2/10min.html\n",
    "<br>[7] https://networkx.github.io/documentation/stable/reference/drawing.html"
   ]
  }
 ],
 "metadata": {
  "kernelspec": {
   "display_name": "Python 3",
   "language": "python",
   "name": "python3"
  },
  "language_info": {
   "codemirror_mode": {
    "name": "ipython",
    "version": 3
   },
   "file_extension": ".py",
   "mimetype": "text/x-python",
   "name": "python",
   "nbconvert_exporter": "python",
   "pygments_lexer": "ipython3",
   "version": "3.8.5"
  }
 },
 "nbformat": 4,
 "nbformat_minor": 5
}
